{
 "cells": [
  {
   "cell_type": "code",
   "execution_count": 107,
   "metadata": {},
   "outputs": [],
   "source": [
    "import numpy as np\n",
    "import trimesh\n"
   ]
  },
  {
   "cell_type": "code",
   "execution_count": 108,
   "metadata": {},
   "outputs": [],
   "source": [
    "#manually_merged.obj  1_1.obj\n",
    "temp_mesh = trimesh.load( r\"C:\\Users\\acer\\Desktop\\Merging\\1_1.obj\", process = False)\n",
    "faces = temp_mesh.faces\n",
    "unmerged_vertices = temp_mesh.vertices"
   ]
  },
  {
   "cell_type": "code",
   "execution_count": 109,
   "metadata": {},
   "outputs": [],
   "source": [
    "#stitched_unmerged.obj  1_1.obj\n",
    "mesh_real = trimesh.load( r\"C:\\Users\\acer\\Desktop\\1_1.obj\", process = False)\n",
    "merged_vertices = mesh_real.vertices\n"
   ]
  },
  {
   "cell_type": "code",
   "execution_count": 110,
   "metadata": {},
   "outputs": [
    {
     "data": {
      "text/plain": [
       "(6974, 3)"
      ]
     },
     "execution_count": 110,
     "metadata": {},
     "output_type": "execute_result"
    }
   ],
   "source": [
    "merged_vertices.shape\n"
   ]
  },
  {
   "cell_type": "code",
   "execution_count": 111,
   "metadata": {},
   "outputs": [
    {
     "data": {
      "text/plain": [
       "(6716, 3)"
      ]
     },
     "execution_count": 111,
     "metadata": {},
     "output_type": "execute_result"
    }
   ],
   "source": [
    "unmerged_vertices.shape"
   ]
  },
  {
   "cell_type": "markdown",
   "metadata": {},
   "source": [
    "# Same vertices"
   ]
  },
  {
   "cell_type": "code",
   "execution_count": 112,
   "metadata": {},
   "outputs": [
    {
     "name": "stdout",
     "output_type": "stream",
     "text": [
      "6715\n",
      "46830669\n"
     ]
    }
   ],
   "source": [
    "count = 0\n",
    "count_missing = 0\n",
    "same_merged = []\n",
    "same_unmerged = []\n",
    "for i in range(6716):\n",
    "    for j in range(6974):\n",
    "        if (unmerged_vertices[i][0] == merged_vertices[j][0]) and (unmerged_vertices[i][1] == merged_vertices[j][1]) and (unmerged_vertices[i][2] == merged_vertices[j][2]):\n",
    "            same_merged.append(j)\n",
    "            same_unmerged.append(i)\n",
    "            count = count + 1\n",
    "        else:\n",
    "            count_missing +=1\n",
    "            \n",
    "            \n",
    "print(count)\n",
    "print(count_missing)\n",
    "\n",
    " "
   ]
  },
  {
   "cell_type": "code",
   "execution_count": 113,
   "metadata": {},
   "outputs": [
    {
     "data": {
      "text/plain": [
       "6715"
      ]
     },
     "execution_count": 113,
     "metadata": {},
     "output_type": "execute_result"
    }
   ],
   "source": [
    " len(same_merged)\n",
    "    "
   ]
  },
  {
   "cell_type": "code",
   "execution_count": 62,
   "metadata": {},
   "outputs": [],
   "source": [
    "# same_unmerged"
   ]
  },
  {
   "cell_type": "code",
   "execution_count": 114,
   "metadata": {},
   "outputs": [],
   "source": [
    "new_vertices = []\n",
    "for k in range(6974):\n",
    "    if k not in same_unmerged:\n",
    "        new_vertices.append(k)\n",
    "        "
   ]
  },
  {
   "cell_type": "code",
   "execution_count": 95,
   "metadata": {},
   "outputs": [],
   "source": [
    "# new_vertices"
   ]
  },
  {
   "cell_type": "code",
   "execution_count": 115,
   "metadata": {},
   "outputs": [],
   "source": [
    "same_merged_np = np.array(same_merged)"
   ]
  },
  {
   "cell_type": "code",
   "execution_count": 116,
   "metadata": {},
   "outputs": [],
   "source": [
    "same_unmerged_np = np.array(same_unmerged)"
   ]
  },
  {
   "cell_type": "code",
   "execution_count": 117,
   "metadata": {},
   "outputs": [],
   "source": [
    "np.save('same_merged_new_1.npy', same_merged_np)\n",
    "np.save('same_unmerged_new_1.npy', same_unmerged_np)"
   ]
  },
  {
   "cell_type": "code",
   "execution_count": 118,
   "metadata": {},
   "outputs": [],
   "source": [
    "import numpy as np\n",
    "import trimesh\n",
    "import os"
   ]
  },
  {
   "cell_type": "code",
   "execution_count": 119,
   "metadata": {},
   "outputs": [],
   "source": [
    "temp_mesh = trimesh.load( r\"C:\\Users\\acer\\Desktop\\Merging\\1_1.obj\", process = False)\n",
    "#mesh_real = trimesh.load( r\"C:\\Users\\inGnious\\Desktop\\Merging\\stiched.obj\", process = False)\n",
    "vertices = temp_mesh.vertices\n",
    "#vertices_real = mesh_real.vertices"
   ]
  },
  {
   "cell_type": "code",
   "execution_count": 123,
   "metadata": {},
   "outputs": [],
   "source": [
    "merged = np.load('same_merged_new_1.npy')\n",
    "unmerged = np.load('same_unmerged_new_1.npy')"
   ]
  },
  {
   "cell_type": "code",
   "execution_count": 125,
   "metadata": {},
   "outputs": [],
   "source": [
    "dir = r\"C:\\Users\\acer\\Desktop\\blender_scripting\\stitched_tshirt_SDK\"\n",
    "dir_out = r\"C:\\Users\\acer\\Desktop\\Merging\\merged_stitched_tshirt_SDK_new\"\n",
    "for i in range(len(os.listdir(dir))):\n",
    "    filename = os.listdir(dir)[i]\n",
    "    f = os.path.join(dir, filename)\n",
    "    mesh_XL = trimesh.load( f, process = False)\n",
    "    vertices_XL = mesh_XL.vertices\n",
    "    for i in range(6715):\n",
    "        \n",
    "        vertices[unmerged[i] ] = vertices_XL[merged[i]]\n",
    "    f_out = os.path.join(dir_out, filename)\n",
    "    _ = temp_mesh.export(f_out)"
   ]
  },
  {
   "cell_type": "code",
   "execution_count": null,
   "metadata": {},
   "outputs": [],
   "source": []
  }
 ],
 "metadata": {
  "kernelspec": {
   "display_name": "Python 3 (ipykernel)",
   "language": "python",
   "name": "python3"
  },
  "language_info": {
   "codemirror_mode": {
    "name": "ipython",
    "version": 3
   },
   "file_extension": ".py",
   "mimetype": "text/x-python",
   "name": "python",
   "nbconvert_exporter": "python",
   "pygments_lexer": "ipython3",
   "version": "3.9.12"
  }
 },
 "nbformat": 4,
 "nbformat_minor": 4
}
